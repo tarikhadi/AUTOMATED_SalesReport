{
 "cells": [
  {
   "cell_type": "markdown",
   "metadata": {},
   "source": [
    "### Passo 1 - Importar Arquivos e Bibliotecas"
   ]
  },
  {
   "cell_type": "code",
   "execution_count": 15,
   "metadata": {},
   "outputs": [],
   "source": [
    "import pandas as pd\n",
    "import smtplib\n",
    "from email.mime.text import MIMEText\n",
    "from email.mime.multipart import MIMEMultipart\n",
    "from email.mime.base import MIMEBase\n",
    "from email import encoders\n",
    "import pathlib"
   ]
  },
  {
   "cell_type": "code",
   "execution_count": null,
   "metadata": {},
   "outputs": [],
   "source": [
    "emails = pd.read_excel(r'/Users/administrador/Downloads/Projeto AutomacaoIndicadores/Bases de Dados/Emails.xlsx')\n",
    "lojas = pd.read_csv(r'/Users/administrador/Downloads/Projeto AutomacaoIndicadores/Bases de Dados/Lojas.csv', encoding='latin-1', sep=';')\n",
    "vendas = pd.read_excel(r'/Users/administrador/Downloads/Projeto AutomacaoIndicadores/Bases de Dados/Vendas.xlsx')\n",
    "\n",
    "vendas = vendas.merge(lojas, on='ID Loja')"
   ]
  },
  {
   "cell_type": "markdown",
   "metadata": {},
   "source": [
    "### Passo 2 - Definir Criar uma Tabela para cada Loja e Definir o dia do Indicador"
   ]
  },
  {
   "cell_type": "code",
   "execution_count": null,
   "metadata": {},
   "outputs": [],
   "source": [
    "dic_lojas = {}\n",
    "for loja in lojas['Loja']:\n",
    "    dic_lojas[loja] = vendas.loc[vendas['Loja']==loja, :]\n",
    "\n",
    "dia = vendas['Data'].max()"
   ]
  },
  {
   "cell_type": "markdown",
   "metadata": {},
   "source": [
    "### Passo 3 - Salvar a planilha na pasta de backup"
   ]
  },
  {
   "cell_type": "code",
   "execution_count": 18,
   "metadata": {},
   "outputs": [],
   "source": [
    "caminho_backup = pathlib.Path(r'Backup Arquivos Lojas')\n",
    "pastas_backup = caminho_backup.iterdir()\n",
    "\n",
    "nomes_pastas = [arquivo.name for arquivo in pastas_backup]\n",
    "\n",
    "for loja in dic_lojas:\n",
    "    if loja not in nomes_pastas:\n",
    "        nova_pasta = caminho_backup / loja\n",
    "        nova_pasta.mkdir()\n",
    "    \n",
    "    nome_arquivo = f'{dia.month}_{dia.day}_{loja}.xlsx'\n",
    "    local_arquivo = caminho_backup / loja / nome_arquivo\n",
    "    \n",
    "    dic_lojas[loja].to_excel(local_arquivo)"
   ]
  },
  {
   "cell_type": "markdown",
   "metadata": {},
   "source": [
    "### Passo 4 - Calcular o indicador para 1 loja"
   ]
  },
  {
   "cell_type": "code",
   "execution_count": 19,
   "metadata": {},
   "outputs": [],
   "source": [
    "# Metas\n",
    "\n",
    "meta_fat_dia = 1000\n",
    "meta_fat_ano = 1650000\n",
    "\n",
    "meta_qtd_prod_dia = 4\n",
    "meta_qtd_prod_ano = 120\n",
    "\n",
    "meta_ticket_dia = 500\n",
    "meta_ticket_ano = 500"
   ]
  },
  {
   "cell_type": "code",
   "execution_count": 27,
   "metadata": {
    "scrolled": true
   },
   "outputs": [
    {
     "name": "stderr",
     "output_type": "stream",
     "text": [
      "/var/folders/ct/vm1dw8k165xfctx2hdsx3bc00000gn/T/ipykernel_733/330880005.py:19: FutureWarning: The default value of numeric_only in DataFrameGroupBy.sum is deprecated. In a future version, numeric_only will default to False. Either specify numeric_only or select only columns which should be valid for the function.\n",
      "  total_vendas_ano = vendas_loja.groupby('Código Venda').sum()\n",
      "/var/folders/ct/vm1dw8k165xfctx2hdsx3bc00000gn/T/ipykernel_733/330880005.py:20: FutureWarning: The default value of numeric_only in DataFrameGroupBy.sum is deprecated. In a future version, numeric_only will default to False. Either specify numeric_only or select only columns which should be valid for the function.\n",
      "  total_vendas_dia = vendas_dia.groupby('Código Venda').sum()\n"
     ]
    },
    {
     "name": "stdout",
     "output_type": "stream",
     "text": [
      "Email da loja Iguatemi Esplanada enviado.\n"
     ]
    },
    {
     "name": "stderr",
     "output_type": "stream",
     "text": [
      "/var/folders/ct/vm1dw8k165xfctx2hdsx3bc00000gn/T/ipykernel_733/330880005.py:19: FutureWarning: The default value of numeric_only in DataFrameGroupBy.sum is deprecated. In a future version, numeric_only will default to False. Either specify numeric_only or select only columns which should be valid for the function.\n",
      "  total_vendas_ano = vendas_loja.groupby('Código Venda').sum()\n",
      "/var/folders/ct/vm1dw8k165xfctx2hdsx3bc00000gn/T/ipykernel_733/330880005.py:20: FutureWarning: The default value of numeric_only in DataFrameGroupBy.sum is deprecated. In a future version, numeric_only will default to False. Either specify numeric_only or select only columns which should be valid for the function.\n",
      "  total_vendas_dia = vendas_dia.groupby('Código Venda').sum()\n"
     ]
    },
    {
     "name": "stdout",
     "output_type": "stream",
     "text": [
      "Email da loja Shopping Midway Mall enviado.\n"
     ]
    },
    {
     "name": "stderr",
     "output_type": "stream",
     "text": [
      "/var/folders/ct/vm1dw8k165xfctx2hdsx3bc00000gn/T/ipykernel_733/330880005.py:19: FutureWarning: The default value of numeric_only in DataFrameGroupBy.sum is deprecated. In a future version, numeric_only will default to False. Either specify numeric_only or select only columns which should be valid for the function.\n",
      "  total_vendas_ano = vendas_loja.groupby('Código Venda').sum()\n",
      "/var/folders/ct/vm1dw8k165xfctx2hdsx3bc00000gn/T/ipykernel_733/330880005.py:20: FutureWarning: The default value of numeric_only in DataFrameGroupBy.sum is deprecated. In a future version, numeric_only will default to False. Either specify numeric_only or select only columns which should be valid for the function.\n",
      "  total_vendas_dia = vendas_dia.groupby('Código Venda').sum()\n"
     ]
    },
    {
     "name": "stdout",
     "output_type": "stream",
     "text": [
      "Email da loja Norte Shopping enviado.\n"
     ]
    },
    {
     "name": "stderr",
     "output_type": "stream",
     "text": [
      "/var/folders/ct/vm1dw8k165xfctx2hdsx3bc00000gn/T/ipykernel_733/330880005.py:19: FutureWarning: The default value of numeric_only in DataFrameGroupBy.sum is deprecated. In a future version, numeric_only will default to False. Either specify numeric_only or select only columns which should be valid for the function.\n",
      "  total_vendas_ano = vendas_loja.groupby('Código Venda').sum()\n",
      "/var/folders/ct/vm1dw8k165xfctx2hdsx3bc00000gn/T/ipykernel_733/330880005.py:20: FutureWarning: The default value of numeric_only in DataFrameGroupBy.sum is deprecated. In a future version, numeric_only will default to False. Either specify numeric_only or select only columns which should be valid for the function.\n",
      "  total_vendas_dia = vendas_dia.groupby('Código Venda').sum()\n"
     ]
    },
    {
     "name": "stdout",
     "output_type": "stream",
     "text": [
      "Email da loja Shopping Iguatemi Fortaleza enviado.\n"
     ]
    },
    {
     "name": "stderr",
     "output_type": "stream",
     "text": [
      "/var/folders/ct/vm1dw8k165xfctx2hdsx3bc00000gn/T/ipykernel_733/330880005.py:19: FutureWarning: The default value of numeric_only in DataFrameGroupBy.sum is deprecated. In a future version, numeric_only will default to False. Either specify numeric_only or select only columns which should be valid for the function.\n",
      "  total_vendas_ano = vendas_loja.groupby('Código Venda').sum()\n",
      "/var/folders/ct/vm1dw8k165xfctx2hdsx3bc00000gn/T/ipykernel_733/330880005.py:20: FutureWarning: The default value of numeric_only in DataFrameGroupBy.sum is deprecated. In a future version, numeric_only will default to False. Either specify numeric_only or select only columns which should be valid for the function.\n",
      "  total_vendas_dia = vendas_dia.groupby('Código Venda').sum()\n"
     ]
    },
    {
     "name": "stdout",
     "output_type": "stream",
     "text": [
      "Email da loja Shopping União de Osasco enviado.\n"
     ]
    },
    {
     "name": "stderr",
     "output_type": "stream",
     "text": [
      "/var/folders/ct/vm1dw8k165xfctx2hdsx3bc00000gn/T/ipykernel_733/330880005.py:19: FutureWarning: The default value of numeric_only in DataFrameGroupBy.sum is deprecated. In a future version, numeric_only will default to False. Either specify numeric_only or select only columns which should be valid for the function.\n",
      "  total_vendas_ano = vendas_loja.groupby('Código Venda').sum()\n",
      "/var/folders/ct/vm1dw8k165xfctx2hdsx3bc00000gn/T/ipykernel_733/330880005.py:20: FutureWarning: The default value of numeric_only in DataFrameGroupBy.sum is deprecated. In a future version, numeric_only will default to False. Either specify numeric_only or select only columns which should be valid for the function.\n",
      "  total_vendas_dia = vendas_dia.groupby('Código Venda').sum()\n"
     ]
    },
    {
     "name": "stdout",
     "output_type": "stream",
     "text": [
      "Email da loja Shopping Center Interlagos enviado.\n"
     ]
    },
    {
     "name": "stderr",
     "output_type": "stream",
     "text": [
      "/var/folders/ct/vm1dw8k165xfctx2hdsx3bc00000gn/T/ipykernel_733/330880005.py:19: FutureWarning: The default value of numeric_only in DataFrameGroupBy.sum is deprecated. In a future version, numeric_only will default to False. Either specify numeric_only or select only columns which should be valid for the function.\n",
      "  total_vendas_ano = vendas_loja.groupby('Código Venda').sum()\n",
      "/var/folders/ct/vm1dw8k165xfctx2hdsx3bc00000gn/T/ipykernel_733/330880005.py:20: FutureWarning: The default value of numeric_only in DataFrameGroupBy.sum is deprecated. In a future version, numeric_only will default to False. Either specify numeric_only or select only columns which should be valid for the function.\n",
      "  total_vendas_dia = vendas_dia.groupby('Código Venda').sum()\n"
     ]
    },
    {
     "name": "stdout",
     "output_type": "stream",
     "text": [
      "Email da loja Rio Mar Recife enviado.\n"
     ]
    },
    {
     "name": "stderr",
     "output_type": "stream",
     "text": [
      "/var/folders/ct/vm1dw8k165xfctx2hdsx3bc00000gn/T/ipykernel_733/330880005.py:19: FutureWarning: The default value of numeric_only in DataFrameGroupBy.sum is deprecated. In a future version, numeric_only will default to False. Either specify numeric_only or select only columns which should be valid for the function.\n",
      "  total_vendas_ano = vendas_loja.groupby('Código Venda').sum()\n",
      "/var/folders/ct/vm1dw8k165xfctx2hdsx3bc00000gn/T/ipykernel_733/330880005.py:20: FutureWarning: The default value of numeric_only in DataFrameGroupBy.sum is deprecated. In a future version, numeric_only will default to False. Either specify numeric_only or select only columns which should be valid for the function.\n",
      "  total_vendas_dia = vendas_dia.groupby('Código Venda').sum()\n"
     ]
    },
    {
     "name": "stdout",
     "output_type": "stream",
     "text": [
      "Email da loja Salvador Shopping enviado.\n"
     ]
    },
    {
     "name": "stderr",
     "output_type": "stream",
     "text": [
      "/var/folders/ct/vm1dw8k165xfctx2hdsx3bc00000gn/T/ipykernel_733/330880005.py:19: FutureWarning: The default value of numeric_only in DataFrameGroupBy.sum is deprecated. In a future version, numeric_only will default to False. Either specify numeric_only or select only columns which should be valid for the function.\n",
      "  total_vendas_ano = vendas_loja.groupby('Código Venda').sum()\n",
      "/var/folders/ct/vm1dw8k165xfctx2hdsx3bc00000gn/T/ipykernel_733/330880005.py:20: FutureWarning: The default value of numeric_only in DataFrameGroupBy.sum is deprecated. In a future version, numeric_only will default to False. Either specify numeric_only or select only columns which should be valid for the function.\n",
      "  total_vendas_dia = vendas_dia.groupby('Código Venda').sum()\n"
     ]
    },
    {
     "name": "stdout",
     "output_type": "stream",
     "text": [
      "Email da loja Rio Mar Shopping Fortaleza enviado.\n"
     ]
    },
    {
     "name": "stderr",
     "output_type": "stream",
     "text": [
      "/var/folders/ct/vm1dw8k165xfctx2hdsx3bc00000gn/T/ipykernel_733/330880005.py:19: FutureWarning: The default value of numeric_only in DataFrameGroupBy.sum is deprecated. In a future version, numeric_only will default to False. Either specify numeric_only or select only columns which should be valid for the function.\n",
      "  total_vendas_ano = vendas_loja.groupby('Código Venda').sum()\n",
      "/var/folders/ct/vm1dw8k165xfctx2hdsx3bc00000gn/T/ipykernel_733/330880005.py:20: FutureWarning: The default value of numeric_only in DataFrameGroupBy.sum is deprecated. In a future version, numeric_only will default to False. Either specify numeric_only or select only columns which should be valid for the function.\n",
      "  total_vendas_dia = vendas_dia.groupby('Código Venda').sum()\n"
     ]
    },
    {
     "ename": "SMTPServerDisconnected",
     "evalue": "Connection unexpectedly closed",
     "output_type": "error",
     "traceback": [
      "\u001b[0;31m---------------------------------------------------------------------------\u001b[0m",
      "\u001b[0;31mSMTPServerDisconnected\u001b[0m                    Traceback (most recent call last)",
      "Cell \u001b[0;32mIn[27], line 158\u001b[0m\n\u001b[1;32m    155\u001b[0m server\u001b[38;5;241m.\u001b[39mlogin(username, password)\n\u001b[1;32m    157\u001b[0m \u001b[38;5;66;03m# Envio do e-mail\u001b[39;00m\n\u001b[0;32m--> 158\u001b[0m \u001b[43mserver\u001b[49m\u001b[38;5;241;43m.\u001b[39;49m\u001b[43msendmail\u001b[49m\u001b[43m(\u001b[49m\u001b[43msender\u001b[49m\u001b[43m,\u001b[49m\u001b[43m \u001b[49m\u001b[43mreceiver\u001b[49m\u001b[43m,\u001b[49m\u001b[43m \u001b[49m\u001b[43mmessage\u001b[49m\u001b[38;5;241;43m.\u001b[39;49m\u001b[43mas_string\u001b[49m\u001b[43m(\u001b[49m\u001b[43m)\u001b[49m\u001b[43m)\u001b[49m\n\u001b[1;32m    159\u001b[0m server\u001b[38;5;241m.\u001b[39mquit()\n\u001b[1;32m    160\u001b[0m \u001b[38;5;28mprint\u001b[39m(\u001b[38;5;124mf\u001b[39m\u001b[38;5;124m'\u001b[39m\u001b[38;5;124mEmail da loja \u001b[39m\u001b[38;5;132;01m{\u001b[39;00mloja\u001b[38;5;132;01m}\u001b[39;00m\u001b[38;5;124m enviado.\u001b[39m\u001b[38;5;124m'\u001b[39m)\n",
      "File \u001b[0;32m~/anaconda3/lib/python3.10/smtplib.py:902\u001b[0m, in \u001b[0;36mSMTP.sendmail\u001b[0;34m(self, from_addr, to_addrs, msg, mail_options, rcpt_options)\u001b[0m\n\u001b[1;32m    900\u001b[0m     \u001b[38;5;28mself\u001b[39m\u001b[38;5;241m.\u001b[39m_rset()\n\u001b[1;32m    901\u001b[0m     \u001b[38;5;28;01mraise\u001b[39;00m SMTPRecipientsRefused(senderrs)\n\u001b[0;32m--> 902\u001b[0m (code, resp) \u001b[38;5;241m=\u001b[39m \u001b[38;5;28;43mself\u001b[39;49m\u001b[38;5;241;43m.\u001b[39;49m\u001b[43mdata\u001b[49m\u001b[43m(\u001b[49m\u001b[43mmsg\u001b[49m\u001b[43m)\u001b[49m\n\u001b[1;32m    903\u001b[0m \u001b[38;5;28;01mif\u001b[39;00m code \u001b[38;5;241m!=\u001b[39m \u001b[38;5;241m250\u001b[39m:\n\u001b[1;32m    904\u001b[0m     \u001b[38;5;28;01mif\u001b[39;00m code \u001b[38;5;241m==\u001b[39m \u001b[38;5;241m421\u001b[39m:\n",
      "File \u001b[0;32m~/anaconda3/lib/python3.10/smtplib.py:580\u001b[0m, in \u001b[0;36mSMTP.data\u001b[0;34m(self, msg)\u001b[0m\n\u001b[1;32m    578\u001b[0m q \u001b[38;5;241m=\u001b[39m q \u001b[38;5;241m+\u001b[39m \u001b[38;5;124mb\u001b[39m\u001b[38;5;124m\"\u001b[39m\u001b[38;5;124m.\u001b[39m\u001b[38;5;124m\"\u001b[39m \u001b[38;5;241m+\u001b[39m bCRLF\n\u001b[1;32m    579\u001b[0m \u001b[38;5;28mself\u001b[39m\u001b[38;5;241m.\u001b[39msend(q)\n\u001b[0;32m--> 580\u001b[0m (code, msg) \u001b[38;5;241m=\u001b[39m \u001b[38;5;28;43mself\u001b[39;49m\u001b[38;5;241;43m.\u001b[39;49m\u001b[43mgetreply\u001b[49m\u001b[43m(\u001b[49m\u001b[43m)\u001b[49m\n\u001b[1;32m    581\u001b[0m \u001b[38;5;28;01mif\u001b[39;00m \u001b[38;5;28mself\u001b[39m\u001b[38;5;241m.\u001b[39mdebuglevel \u001b[38;5;241m>\u001b[39m \u001b[38;5;241m0\u001b[39m:\n\u001b[1;32m    582\u001b[0m     \u001b[38;5;28mself\u001b[39m\u001b[38;5;241m.\u001b[39m_print_debug(\u001b[38;5;124m'\u001b[39m\u001b[38;5;124mdata:\u001b[39m\u001b[38;5;124m'\u001b[39m, (code, msg))\n",
      "File \u001b[0;32m~/anaconda3/lib/python3.10/smtplib.py:405\u001b[0m, in \u001b[0;36mSMTP.getreply\u001b[0;34m(self)\u001b[0m\n\u001b[1;32m    403\u001b[0m \u001b[38;5;28;01mif\u001b[39;00m \u001b[38;5;129;01mnot\u001b[39;00m line:\n\u001b[1;32m    404\u001b[0m     \u001b[38;5;28mself\u001b[39m\u001b[38;5;241m.\u001b[39mclose()\n\u001b[0;32m--> 405\u001b[0m     \u001b[38;5;28;01mraise\u001b[39;00m SMTPServerDisconnected(\u001b[38;5;124m\"\u001b[39m\u001b[38;5;124mConnection unexpectedly closed\u001b[39m\u001b[38;5;124m\"\u001b[39m)\n\u001b[1;32m    406\u001b[0m \u001b[38;5;28;01mif\u001b[39;00m \u001b[38;5;28mself\u001b[39m\u001b[38;5;241m.\u001b[39mdebuglevel \u001b[38;5;241m>\u001b[39m \u001b[38;5;241m0\u001b[39m:\n\u001b[1;32m    407\u001b[0m     \u001b[38;5;28mself\u001b[39m\u001b[38;5;241m.\u001b[39m_print_debug(\u001b[38;5;124m'\u001b[39m\u001b[38;5;124mreply:\u001b[39m\u001b[38;5;124m'\u001b[39m, \u001b[38;5;28mrepr\u001b[39m(line))\n",
      "\u001b[0;31mSMTPServerDisconnected\u001b[0m: Connection unexpectedly closed"
     ]
    }
   ],
   "source": [
    "# Indicadores e email\n",
    "\n",
    "for loja in dic_lojas:\n",
    "\n",
    "    vendas_loja = dic_lojas[loja]\n",
    "    vendas_dia = vendas_loja_ano.loc[vendas_loja_ano['Data']==dia, :]\n",
    "\n",
    "    #faturamento ano e dia\n",
    "    faturamento = vendas_loja['Valor Final'].sum()\n",
    "    fatu_dia = vendas_dia['Valor Final'].sum()\n",
    "\n",
    "    #divers de produtos ano e dia\n",
    "\n",
    "    total_produtos_ano = len(vendas_loja_ano['Produto'].value_counts())\n",
    "    total_produtos_dia = len(vendas_dia['Produto'].value_counts())\n",
    "\n",
    "    #ticket medio ano e dia\n",
    "\n",
    "    total_vendas_ano = vendas_loja.groupby('Código Venda').sum()\n",
    "    total_vendas_dia = vendas_dia.groupby('Código Venda').sum()\n",
    "\n",
    "    ticket_medio_ano = total_vendas_ano['Valor Final'].mean()\n",
    "    ticket_medio_dia = total_vendas_dia['Valor Final'].mean()\n",
    "\n",
    "    # Configurações do e-mail\n",
    "    nome = emails.loc[emails['Loja']==loja, 'Gerente'].values[0]\n",
    "    sender = 'tarikhadi7@gmail.com'\n",
    "    receiver = emails.loc[emails['Loja']==loja, 'E-mail'].values[0]\n",
    "    subject = f'One Page Dia {dia.day}/{dia.month} - Loja {loja}'\n",
    "    attachment_path = pathlib.Path.cwd() / caminho_backup / loja / f'{dia.month}_{dia.day}_{loja}.xlsx'\n",
    "    \n",
    "    if fatu_dia >= meta_fat_dia:\n",
    "        cor_fat_dia = 'green'\n",
    "    else:\n",
    "        cor_fat_dia = 'red'\n",
    "    if faturamento >= meta_fat_ano:\n",
    "        cor_fat_ano = 'green'\n",
    "    else:\n",
    "        cor_fat_ano = 'red'\n",
    "    if total_produtos_dia >= meta_qtd_prod_dia:\n",
    "        cor_qtde_dia = 'green'\n",
    "    else:\n",
    "        cor_qtde_dia = 'red'\n",
    "    if total_produtos_ano >= meta_qtd_prod_ano:\n",
    "        cor_qtde_ano = 'green'\n",
    "    else:\n",
    "        cor_qtde_ano = 'red'\n",
    "    if ticket_medio_dia >= meta_ticket_dia:\n",
    "        cor_ticket_dia = 'green'\n",
    "    else:\n",
    "        cor_ticket_dia = 'red'\n",
    "    if ticket_medio_ano >= meta_ticket_ano:\n",
    "        cor_ticket_ano = 'green'\n",
    "    else:\n",
    "        cor_ticket_ano = 'red'\n",
    "        \n",
    "    body = f'''\n",
    "        <p>Bom dia, {nome}</p>\n",
    "\n",
    "        <p>O resultado de ontem <strong>({dia.day}/{dia.month})</strong> da <strong>Loja {loja}</strong> foi:</p>\n",
    "\n",
    "        <table>\n",
    "          <tr>\n",
    "            <th>Indicador</th>\n",
    "            <th>Valor Dia</th>\n",
    "            <th>Meta Dia</th>\n",
    "            <th>Cenário Dia</th>\n",
    "          </tr>\n",
    "          <tr>\n",
    "            <td>Faturamento</td>\n",
    "            <td style=\"text-align: center\">R${fatu_dia:.2f}</td>\n",
    "            <td style=\"text-align: center\">R${meta_fat_dia:.2f}</td>\n",
    "            <td style=\"text-align: center\"><font color=\"{cor_fat_dia}\">◙</font></td>\n",
    "          </tr>\n",
    "          <tr>\n",
    "            <td>Diversidade de Produtos</td>\n",
    "            <td style=\"text-align: center\">{total_produtos_dia}</td>\n",
    "            <td style=\"text-align: center\">{meta_qtd_prod_dia}</td>\n",
    "            <td style=\"text-align: center\"><font color=\"{cor_qtde_dia}\">◙</font></td>\n",
    "          </tr>\n",
    "          <tr>\n",
    "            <td>Ticket Médio</td>\n",
    "            <td style=\"text-align: center\">R${ticket_medio_dia:.2f}</td>\n",
    "            <td style=\"text-align: center\">R${meta_ticket_dia:.2f}</td>\n",
    "            <td style=\"text-align: center\"><font color=\"{cor_ticket_dia}\">◙</font></td>\n",
    "          </tr>\n",
    "        </table>\n",
    "        <br>\n",
    "        <table>\n",
    "          <tr>\n",
    "            <th>Indicador</th>\n",
    "            <th>Valor Ano</th>\n",
    "            <th>Meta Ano</th>\n",
    "            <th>Cenário Ano</th>\n",
    "          </tr>\n",
    "          <tr>\n",
    "            <td>Faturamento</td>\n",
    "            <td style=\"text-align: center\">R${faturamento:.2f}</td>\n",
    "            <td style=\"text-align: center\">R${meta_fat_ano:.2f}</td>\n",
    "            <td style=\"text-align: center\"><font color=\"{cor_fat_ano}\">◙</font></td>\n",
    "          </tr>\n",
    "          <tr>\n",
    "            <td>Diversidade de Produtos</td>\n",
    "            <td style=\"text-align: center\">{total_produtos_ano}</td>\n",
    "            <td style=\"text-align: center\">{meta_qtd_prod_ano}</td>\n",
    "            <td style=\"text-align: center\"><font color=\"{cor_qtde_ano}\">◙</font></td>\n",
    "          </tr>\n",
    "          <tr>\n",
    "            <td>Ticket Médio</td>\n",
    "            <td style=\"text-align: center\">R${ticket_medio_ano:.2f}</td>\n",
    "            <td style=\"text-align: center\">R${meta_ticket_ano:.2f}</td>\n",
    "            <td style=\"text-align: center\"><font color=\"{cor_ticket_ano}\">◙</font></td>\n",
    "          </tr>\n",
    "        </table>\n",
    "\n",
    "        <p>Segue em anexo a planilha com todos os dados para mais detalhes.</p>\n",
    "\n",
    "        <p>Qualquer dúvida estou à disposição.</p>\n",
    "        <p>Att., Lira</p>\n",
    "        '''\n",
    "\n",
    "    # Criação do objeto de mensagem\n",
    "    message = MIMEMultipart()\n",
    "    message['From'] = sender\n",
    "    message['To'] = receiver\n",
    "    message['Subject'] = subject\n",
    "\n",
    "    # Adiciona o corpo do e-mail\n",
    "    message.attach(MIMEText(body, 'html'))\n",
    "\n",
    "    # Leitura do arquivo a ser anexado\n",
    "    attachment = open(attachment_path, 'rb')\n",
    "\n",
    "    # Criação do objeto MIMEBase\n",
    "    mimebase = MIMEBase('application', 'octet-stream')\n",
    "    mimebase.set_payload(attachment.read())\n",
    "\n",
    "    # Codifica o arquivo em base64\n",
    "    encoders.encode_base64(mimebase)\n",
    "\n",
    "    # Define o cabeçalho do anexo\n",
    "    mimebase.add_header('Content-Disposition', f'attachment; filename=\"{attachment_path}\"')\n",
    "\n",
    "    # Adiciona o anexo à mensagem\n",
    "    message.attach(mimebase)\n",
    "\n",
    "    # Estabelece a conexão com o servidor SMTP do Gmail\n",
    "    smtp_server = 'smtp.gmail.com'\n",
    "    smtp_port = 587\n",
    "    username = 'tarikhadi7@gmail.com'\n",
    "    password = 'fwpvmthkczyvemll'\n",
    "\n",
    "    server = smtplib.SMTP(smtp_server, smtp_port)\n",
    "    server.starttls()\n",
    "    server.login(username, password)\n",
    "\n",
    "    # Envio do e-mail\n",
    "    server.sendmail(sender, receiver, message.as_string())\n",
    "    server.quit()\n",
    "    print(f'Email da loja {loja} enviado.')"
   ]
  },
  {
   "cell_type": "markdown",
   "metadata": {},
   "source": [
    "### Passo 5 - Enviar por e-mail para o gerente"
   ]
  },
  {
   "cell_type": "code",
   "execution_count": null,
   "metadata": {},
   "outputs": [],
   "source": []
  },
  {
   "cell_type": "markdown",
   "metadata": {},
   "source": [
    "### Passo 7 - Criar ranking para diretoria"
   ]
  },
  {
   "cell_type": "code",
   "execution_count": 70,
   "metadata": {},
   "outputs": [
    {
     "name": "stderr",
     "output_type": "stream",
     "text": [
      "/var/folders/ct/vm1dw8k165xfctx2hdsx3bc00000gn/T/ipykernel_733/1069385959.py:1: FutureWarning: The default value of numeric_only in DataFrameGroupBy.sum is deprecated. In a future version, numeric_only will default to False. Either specify numeric_only or select only columns which should be valid for the function.\n",
      "  fat_lojas_ano_ranking = vendas.groupby('Loja')[['Loja','Valor Final']].sum().sort_values('Valor Final', ascending=False)\n"
     ]
    },
    {
     "data": {
      "text/html": [
       "<div>\n",
       "<style scoped>\n",
       "    .dataframe tbody tr th:only-of-type {\n",
       "        vertical-align: middle;\n",
       "    }\n",
       "\n",
       "    .dataframe tbody tr th {\n",
       "        vertical-align: top;\n",
       "    }\n",
       "\n",
       "    .dataframe thead th {\n",
       "        text-align: right;\n",
       "    }\n",
       "</style>\n",
       "<table border=\"1\" class=\"dataframe\">\n",
       "  <thead>\n",
       "    <tr style=\"text-align: right;\">\n",
       "      <th></th>\n",
       "      <th>Valor Final</th>\n",
       "    </tr>\n",
       "    <tr>\n",
       "      <th>Loja</th>\n",
       "      <th></th>\n",
       "    </tr>\n",
       "  </thead>\n",
       "  <tbody>\n",
       "    <tr>\n",
       "      <th>Iguatemi Campinas</th>\n",
       "      <td>1762419</td>\n",
       "    </tr>\n",
       "    <tr>\n",
       "      <th>Shopping Vila Velha</th>\n",
       "      <td>1731167</td>\n",
       "    </tr>\n",
       "    <tr>\n",
       "      <th>Bourbon Shopping SP</th>\n",
       "      <td>1726110</td>\n",
       "    </tr>\n",
       "    <tr>\n",
       "      <th>Rio Mar Recife</th>\n",
       "      <td>1722766</td>\n",
       "    </tr>\n",
       "    <tr>\n",
       "      <th>Shopping SP Market</th>\n",
       "      <td>1721763</td>\n",
       "    </tr>\n",
       "    <tr>\n",
       "      <th>Palladium Shopping Curitiba</th>\n",
       "      <td>1721120</td>\n",
       "    </tr>\n",
       "    <tr>\n",
       "      <th>Norte Shopping</th>\n",
       "      <td>1711968</td>\n",
       "    </tr>\n",
       "    <tr>\n",
       "      <th>Ribeirão Shopping</th>\n",
       "      <td>1707122</td>\n",
       "    </tr>\n",
       "    <tr>\n",
       "      <th>Iguatemi Esplanada</th>\n",
       "      <td>1699681</td>\n",
       "    </tr>\n",
       "    <tr>\n",
       "      <th>Rio Mar Shopping Fortaleza</th>\n",
       "      <td>1698430</td>\n",
       "    </tr>\n",
       "    <tr>\n",
       "      <th>Shopping Center Leste Aricanduva</th>\n",
       "      <td>1682870</td>\n",
       "    </tr>\n",
       "    <tr>\n",
       "      <th>Novo Shopping Ribeirão Preto</th>\n",
       "      <td>1678225</td>\n",
       "    </tr>\n",
       "    <tr>\n",
       "      <th>Shopping Iguatemi Fortaleza</th>\n",
       "      <td>1674824</td>\n",
       "    </tr>\n",
       "    <tr>\n",
       "      <th>Center Shopping Uberlândia</th>\n",
       "      <td>1668921</td>\n",
       "    </tr>\n",
       "    <tr>\n",
       "      <th>Shopping União de Osasco</th>\n",
       "      <td>1663770</td>\n",
       "    </tr>\n",
       "    <tr>\n",
       "      <th>Shopping Barra</th>\n",
       "      <td>1653103</td>\n",
       "    </tr>\n",
       "    <tr>\n",
       "      <th>Passei das Águas Shopping</th>\n",
       "      <td>1649014</td>\n",
       "    </tr>\n",
       "    <tr>\n",
       "      <th>Shopping Eldorado</th>\n",
       "      <td>1648111</td>\n",
       "    </tr>\n",
       "    <tr>\n",
       "      <th>Salvador Shopping</th>\n",
       "      <td>1646739</td>\n",
       "    </tr>\n",
       "    <tr>\n",
       "      <th>Shopping Center Interlagos</th>\n",
       "      <td>1640486</td>\n",
       "    </tr>\n",
       "    <tr>\n",
       "      <th>Shopping Ibirapuera</th>\n",
       "      <td>1635060</td>\n",
       "    </tr>\n",
       "    <tr>\n",
       "      <th>Parque Dom Pedro Shopping</th>\n",
       "      <td>1631630</td>\n",
       "    </tr>\n",
       "    <tr>\n",
       "      <th>Shopping Recife</th>\n",
       "      <td>1624879</td>\n",
       "    </tr>\n",
       "    <tr>\n",
       "      <th>Shopping Midway Mall</th>\n",
       "      <td>1590441</td>\n",
       "    </tr>\n",
       "    <tr>\n",
       "      <th>Shopping Morumbi</th>\n",
       "      <td>1586444</td>\n",
       "    </tr>\n",
       "  </tbody>\n",
       "</table>\n",
       "</div>"
      ],
      "text/plain": [
       "                                  Valor Final\n",
       "Loja                                         \n",
       "Iguatemi Campinas                     1762419\n",
       "Shopping Vila Velha                   1731167\n",
       "Bourbon Shopping SP                   1726110\n",
       "Rio Mar Recife                        1722766\n",
       "Shopping SP Market                    1721763\n",
       "Palladium Shopping Curitiba           1721120\n",
       "Norte Shopping                        1711968\n",
       "Ribeirão Shopping                     1707122\n",
       "Iguatemi Esplanada                    1699681\n",
       "Rio Mar Shopping Fortaleza            1698430\n",
       "Shopping Center Leste Aricanduva      1682870\n",
       "Novo Shopping Ribeirão Preto          1678225\n",
       "Shopping Iguatemi Fortaleza           1674824\n",
       "Center Shopping Uberlândia            1668921\n",
       "Shopping União de Osasco              1663770\n",
       "Shopping Barra                        1653103\n",
       "Passei das Águas Shopping             1649014\n",
       "Shopping Eldorado                     1648111\n",
       "Salvador Shopping                     1646739\n",
       "Shopping Center Interlagos            1640486\n",
       "Shopping Ibirapuera                   1635060\n",
       "Parque Dom Pedro Shopping             1631630\n",
       "Shopping Recife                       1624879\n",
       "Shopping Midway Mall                  1590441\n",
       "Shopping Morumbi                      1586444"
      ]
     },
     "metadata": {},
     "output_type": "display_data"
    },
    {
     "name": "stderr",
     "output_type": "stream",
     "text": [
      "/var/folders/ct/vm1dw8k165xfctx2hdsx3bc00000gn/T/ipykernel_733/1069385959.py:7: FutureWarning: The default value of numeric_only in DataFrameGroupBy.sum is deprecated. In a future version, numeric_only will default to False. Either specify numeric_only or select only columns which should be valid for the function.\n",
      "  fat_lojas_dia_ranking = vendas.loc[vendas['Data'] == dia, :].groupby('Loja')[['Loja','Valor Final']].sum().sort_values('Valor Final', ascending=False)\n"
     ]
    },
    {
     "data": {
      "text/html": [
       "<div>\n",
       "<style scoped>\n",
       "    .dataframe tbody tr th:only-of-type {\n",
       "        vertical-align: middle;\n",
       "    }\n",
       "\n",
       "    .dataframe tbody tr th {\n",
       "        vertical-align: top;\n",
       "    }\n",
       "\n",
       "    .dataframe thead th {\n",
       "        text-align: right;\n",
       "    }\n",
       "</style>\n",
       "<table border=\"1\" class=\"dataframe\">\n",
       "  <thead>\n",
       "    <tr style=\"text-align: right;\">\n",
       "      <th></th>\n",
       "      <th>Valor Final</th>\n",
       "    </tr>\n",
       "    <tr>\n",
       "      <th>Loja</th>\n",
       "      <th></th>\n",
       "    </tr>\n",
       "  </thead>\n",
       "  <tbody>\n",
       "    <tr>\n",
       "      <th>Salvador Shopping</th>\n",
       "      <td>3950</td>\n",
       "    </tr>\n",
       "    <tr>\n",
       "      <th>Novo Shopping Ribeirão Preto</th>\n",
       "      <td>3400</td>\n",
       "    </tr>\n",
       "    <tr>\n",
       "      <th>Center Shopping Uberlândia</th>\n",
       "      <td>2651</td>\n",
       "    </tr>\n",
       "    <tr>\n",
       "      <th>Shopping Eldorado</th>\n",
       "      <td>2391</td>\n",
       "    </tr>\n",
       "    <tr>\n",
       "      <th>Shopping Center Interlagos</th>\n",
       "      <td>1582</td>\n",
       "    </tr>\n",
       "    <tr>\n",
       "      <th>Shopping Recife</th>\n",
       "      <td>1366</td>\n",
       "    </tr>\n",
       "    <tr>\n",
       "      <th>Norte Shopping</th>\n",
       "      <td>1259</td>\n",
       "    </tr>\n",
       "    <tr>\n",
       "      <th>Shopping União de Osasco</th>\n",
       "      <td>1207</td>\n",
       "    </tr>\n",
       "    <tr>\n",
       "      <th>Shopping Vila Velha</th>\n",
       "      <td>937</td>\n",
       "    </tr>\n",
       "    <tr>\n",
       "      <th>Bourbon Shopping SP</th>\n",
       "      <td>676</td>\n",
       "    </tr>\n",
       "    <tr>\n",
       "      <th>Ribeirão Shopping</th>\n",
       "      <td>650</td>\n",
       "    </tr>\n",
       "    <tr>\n",
       "      <th>Shopping Center Leste Aricanduva</th>\n",
       "      <td>485</td>\n",
       "    </tr>\n",
       "    <tr>\n",
       "      <th>Palladium Shopping Curitiba</th>\n",
       "      <td>381</td>\n",
       "    </tr>\n",
       "    <tr>\n",
       "      <th>Rio Mar Shopping Fortaleza</th>\n",
       "      <td>368</td>\n",
       "    </tr>\n",
       "    <tr>\n",
       "      <th>Shopping Midway Mall</th>\n",
       "      <td>170</td>\n",
       "    </tr>\n",
       "    <tr>\n",
       "      <th>Shopping Ibirapuera</th>\n",
       "      <td>118</td>\n",
       "    </tr>\n",
       "  </tbody>\n",
       "</table>\n",
       "</div>"
      ],
      "text/plain": [
       "                                  Valor Final\n",
       "Loja                                         \n",
       "Salvador Shopping                        3950\n",
       "Novo Shopping Ribeirão Preto             3400\n",
       "Center Shopping Uberlândia               2651\n",
       "Shopping Eldorado                        2391\n",
       "Shopping Center Interlagos               1582\n",
       "Shopping Recife                          1366\n",
       "Norte Shopping                           1259\n",
       "Shopping União de Osasco                 1207\n",
       "Shopping Vila Velha                       937\n",
       "Bourbon Shopping SP                       676\n",
       "Ribeirão Shopping                         650\n",
       "Shopping Center Leste Aricanduva          485\n",
       "Palladium Shopping Curitiba               381\n",
       "Rio Mar Shopping Fortaleza                368\n",
       "Shopping Midway Mall                      170\n",
       "Shopping Ibirapuera                       118"
      ]
     },
     "metadata": {},
     "output_type": "display_data"
    },
    {
     "data": {
      "text/plain": [
       "1762419"
      ]
     },
     "metadata": {},
     "output_type": "display_data"
    }
   ],
   "source": [
    "fat_lojas_ano_ranking = vendas.groupby('Loja')[['Loja','Valor Final']].sum().sort_values('Valor Final', ascending=False)\n",
    "display(fat_lojas)\n",
    "\n",
    "nome_arquivo = f'{dia.day}_{dia.month}_Ranking Anual.xlsx'\n",
    "fat_lojas_ano_ranking.to_excel(f'Backup Arquivos Lojas/{nome_arquivo}')\n",
    "\n",
    "fat_lojas_dia_ranking = vendas.loc[vendas['Data'] == dia, :].groupby('Loja')[['Loja','Valor Final']].sum().sort_values('Valor Final', ascending=False)\n",
    "display(fat_lojas_dia)\n",
    "\n",
    "nome_arquivo = f'{dia.day}_{dia.month}_Ranking Dia.xlsx'\n",
    "fat_lojas_dia_ranking.to_excel(f'Backup Arquivos Lojas/{nome_arquivo}')\n",
    "\n",
    "display(fat_lojas_ano_ranking.iloc[0, 0])\n"
   ]
  },
  {
   "cell_type": "markdown",
   "metadata": {},
   "source": [
    "### Passo 8 - Enviar e-mail para diretoria"
   ]
  },
  {
   "cell_type": "code",
   "execution_count": 72,
   "metadata": {},
   "outputs": [
    {
     "name": "stdout",
     "output_type": "stream",
     "text": [
      "Email da Diretoria enviado.\n"
     ]
    }
   ],
   "source": [
    "\n",
    "sender = 'tarikhadi7@gmail.com'\n",
    "receiver = emails.loc[emails['Loja']=='Diretoria', 'E-mail'].values[0]\n",
    "subject = f'Ranking Dia {dia.day}/{dia.month}'\n",
    "body = f'''\n",
    "\n",
    "Preazdos, Bom dia!\n",
    "\n",
    "Melhor loja do ano em faturamento: Loja {fat_lojas_ano_ranking.index[0]} com Faturamento R$ {fat_lojas_ano_ranking.iloc[0, 0]:,.2f}\n",
    "Pior loja do ano em faturamento: Loja {fat_lojas_ano_ranking.index[-1]} com Faturamento R$ {fat_lojas_ano_ranking.iloc[-1, 0]:,.2f}\n",
    "\n",
    "Melhor loja do dia em faturamento: Loja {fat_lojas_dia_ranking.index[0]} com Faturamento R$ {fat_lojas_dia_ranking.iloc[0, 0]:,.2f}\n",
    "Pior loja do dia em faturamento: Loja {fat_lojas_dia_ranking.index[-1]} com Faturametno R$ {fat_lojas_dia_ranking.iloc[-1, 0]:,.2f}\n",
    "\n",
    "Segue em anexo os rankings do ano e do dia de todas as lojas. \n",
    "Qualquer dúvida estou a disposição.\n",
    "\n",
    "Att,\n",
    "Tárik\n",
    "\n",
    "''' \n",
    "attachment_paths = [\n",
    "    pathlib.Path.cwd() / caminho_backup / f'{dia.day}_{dia.month}_Ranking Dia.xlsx', \n",
    "    pathlib.Path.cwd() / caminho_backup / f'{dia.day}_{dia.month}_Ranking Anual.xlsx'\n",
    "]\n",
    "\n",
    "# Criação do objeto de mensagem\n",
    "message = MIMEMultipart()\n",
    "message['From'] = sender\n",
    "message['To'] = receiver\n",
    "message['Subject'] = subject\n",
    "\n",
    "# Adiciona o corpo do e-mail\n",
    "message.attach(MIMEText(body, 'plain'))\n",
    "\n",
    "for attachment_path in attachment_paths:\n",
    "\n",
    "    with open(attachment_path, 'rb') as attachment:\n",
    "        # Criação do objeto MIMEBase\n",
    "        mimebase = MIMEBase('application', 'octet-stream')\n",
    "        mimebase.set_payload(attachment.read())\n",
    "\n",
    "        # Codifica o arquivo em base64\n",
    "        encoders.encode_base64(mimebase)\n",
    "\n",
    "        # Define o cabeçalho do anexo\n",
    "        mimebase.add_header('Content-Disposition', f'attachment; filename=\"{attachment_path.name}\"')\n",
    "\n",
    "        # Adiciona o anexo à mensagem\n",
    "        message.attach(mimebase)\n",
    "        \n",
    "# Estabelece a conexão com o servidor SMTP do Gmail\n",
    "smtp_server = 'smtp.gmail.com'\n",
    "smtp_port = 587\n",
    "username = 'tarikhadi7@gmail.com'\n",
    "password = 'fwpvmthkczyvemll'\n",
    "\n",
    "server = smtplib.SMTP(smtp_server, smtp_port)\n",
    "server.starttls()\n",
    "server.login(username, password)\n",
    "\n",
    "# Envio do e-mail\n",
    "server.sendmail(sender, receiver, message.as_string())\n",
    "server.quit()\n",
    "print(f'Email da Diretoria enviado.')"
   ]
  },
  {
   "cell_type": "code",
   "execution_count": null,
   "metadata": {},
   "outputs": [],
   "source": []
  }
 ],
 "metadata": {
  "kernelspec": {
   "display_name": "Python 3 (ipykernel)",
   "language": "python",
   "name": "python3"
  },
  "language_info": {
   "codemirror_mode": {
    "name": "ipython",
    "version": 3
   },
   "file_extension": ".py",
   "mimetype": "text/x-python",
   "name": "python",
   "nbconvert_exporter": "python",
   "pygments_lexer": "ipython3",
   "version": "3.10.9"
  }
 },
 "nbformat": 4,
 "nbformat_minor": 4
}
